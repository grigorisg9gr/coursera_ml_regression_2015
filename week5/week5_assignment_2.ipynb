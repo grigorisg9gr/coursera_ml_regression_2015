{
 "cells": [
  {
   "cell_type": "raw",
   "metadata": {},
   "source": [
    "In this assignment, we implement lasso regression with normalised features. "
   ]
  },
  {
   "cell_type": "code",
   "execution_count": null,
   "metadata": {
    "collapsed": true
   },
   "outputs": [],
   "source": [
    "import numpy as np\n",
    "import matplotlib.pyplot as plt\n",
    "%matplotlib inline\n",
    "from sklearn import linear_model"
   ]
  },
  {
   "cell_type": "code",
   "execution_count": null,
   "metadata": {
    "collapsed": true
   },
   "outputs": [],
   "source": [
    "data_all = np.genfromtxt('../data/kc_house_data.csv', dtype=None, delimiter=',', names=True)\n",
    "data = np.genfromtxt('../data/wk3_kc_house_train_data.csv', dtype=None, delimiter=',', names=True)\n",
    "d_val = np.genfromtxt('../data/wk3_kc_house_valid_data.csv', dtype=None, delimiter=',', names=True)\n",
    "d_test = np.genfromtxt('../data/wk3_kc_house_test_data.csv', dtype=None, delimiter=',', names=True)"
   ]
  },
  {
   "cell_type": "code",
   "execution_count": null,
   "metadata": {
    "collapsed": true
   },
   "outputs": [],
   "source": [
    "def normalize_features(X):\n",
    "    norms = np.linalg.norm(X, axis=0)\n",
    "    X_normalized = X / norms\n",
    "    return X_normalized, norms\n",
    "\n",
    "\n",
    "def predict_outcome(feature_matrix, weights):\n",
    "    return np.dot(feature_matrix, weights)\n",
    "\n",
    "\n",
    "def compute_ro(weights, feature, output, predictions):\n",
    "    assert(weights.shape[0] == feature.shape[1])\n",
    "\n",
    "    ro = np.empty((weights.shape[0]))\n",
    "    diff = output - predictions\n",
    "    for i in range(weights.shape[0]):\n",
    "        ro[i] = np.sum(np.multiply(feature[:, i], diff + np.dot(feature[:, i], weights[i])))\n",
    "    \n",
    "    return ro"
   ]
  },
  {
   "cell_type": "code",
   "execution_count": null,
   "metadata": {
    "collapsed": false
   },
   "outputs": [],
   "source": [
    "inp = np.array([data_all['sqft_living'], data_all['bedrooms']]).T\n",
    "inp = np.array([np.ones_like(inp[:, 0]), inp[:, 0], inp[:, 1]]).T\n",
    "\n",
    "output = data_all['price']"
   ]
  },
  {
   "cell_type": "code",
   "execution_count": null,
   "metadata": {
    "collapsed": false
   },
   "outputs": [],
   "source": [
    "inp_norm, norms = normalize_features(inp)\n",
    "\n",
    "initial_weights = np.array([1., 4., 1.])"
   ]
  },
  {
   "cell_type": "code",
   "execution_count": null,
   "metadata": {
    "collapsed": false
   },
   "outputs": [],
   "source": [
    "init_pred = predict_outcome(inp_norm, initial_weights)\n",
    "\n",
    "ro = compute_ro(initial_weights, inp_norm, output, init_pred)\n",
    "\n",
    "print(ro)\n",
    "# quiz question (w[1] -> not zero, w[2] -> zero): we want l1_penalty to follow the inequality: \n",
    "# 2 * abs(ro[2]) < l1_penalty < 2 * abs(ro[1])\n",
    "# quiz question (w[1] -> zero, w[2] -> zero): l1_penalty < 2 * max(ro[1], ro[2])\n",
    "print('1: {} < l1 < {},   2: l1_pen > {}'.format(2 * ro[2], 2 * ro[1], 2 * max(ro[1], ro[2])))"
   ]
  },
  {
   "cell_type": "code",
   "execution_count": null,
   "metadata": {
    "collapsed": false
   },
   "outputs": [],
   "source": [
    "def lasso_coordinate_descent_step(i, feature_matrix, output, weights, l1_penalty):\n",
    "    weights = np.array(weights)\n",
    "    # compute prediction\n",
    "    prediction = predict_outcome(feature_matrix, weights)\n",
    "    diff = output - prediction\n",
    "    # compute ro[i] = SUM[ [feature_i]*(output - prediction + weight[i]*[feature_i]) ]\n",
    "    ro_i = np.sum(np.multiply(feature_matrix[:, i], diff + np.dot(feature_matrix[:, i], weights[i])))\n",
    "    \n",
    "    if i == 0: # intercept -- do not regularize\n",
    "        new_weight_i = ro_i\n",
    "    elif ro_i < -l1_penalty/2.:\n",
    "        new_weight_i = ro_i + l1_penalty / 2.\n",
    "    elif ro_i > l1_penalty/2.:\n",
    "        new_weight_i = ro_i - l1_penalty / 2.\n",
    "    else:\n",
    "        new_weight_i = 0.\n",
    "    \n",
    "    return new_weight_i"
   ]
  },
  {
   "cell_type": "code",
   "execution_count": null,
   "metadata": {
    "collapsed": false
   },
   "outputs": [],
   "source": [
    "# should not raise assertion (or any other) error\n",
    "import math\n",
    "assert(abs(lasso_coordinate_descent_step(1, np.array([[3./math.sqrt(13),1./math.sqrt(10)],\n",
    "                   [2./math.sqrt(13),3./math.sqrt(10)]]), np.array([1., 1.]), np.array([1., 4.]), 0.1) - 0.425558846) < 0.0001) "
   ]
  },
  {
   "cell_type": "code",
   "execution_count": null,
   "metadata": {
    "collapsed": true
   },
   "outputs": [],
   "source": [
    "def lasso_cyclical_coordinate_descent(feature_matrix, output, initial_weights, l1_penalty, tolerance):\n",
    "    weights = np.copy(initial_weights)\n",
    "    converged = False\n",
    "    while not converged:\n",
    "        for i in range(initial_weights.shape[0]):\n",
    "            weights[i] = lasso_coordinate_descent_step(i, feature_matrix, output, weights, l1_penalty)\n",
    "\n",
    "        # check whether it has converged (max of difference is below tolerance)\n",
    "        converged = np.abs(np.max(weights - initial_weights)) < tolerance\n",
    "        initial_weights = np.copy(weights)\n",
    "        \n",
    "    return weights\n",
    "\n",
    "\n",
    "def compute_rss_lasso(y_pred, y_true, w):\n",
    "    erri = y_pred - y_true\n",
    "    return np.sum(np.multiply(erri, erri)) + np.linalg.norm(w, 1)"
   ]
  },
  {
   "cell_type": "code",
   "execution_count": null,
   "metadata": {
    "collapsed": false
   },
   "outputs": [],
   "source": [
    "in_w = np.array([0., 0., 0.])\n",
    "l1_penalty = 1e7\n",
    "tolerance = 1.0\n",
    "weights1 = lasso_cyclical_coordinate_descent(inp_norm, output, in_w, l1_penalty, tolerance)"
   ]
  },
  {
   "cell_type": "code",
   "execution_count": null,
   "metadata": {
    "collapsed": false
   },
   "outputs": [],
   "source": [
    "y_pred = predict_outcome(inp_norm, weights1)\n",
    "print(compute_rss_lasso(y_pred, output, weights1[1:]))\n",
    "print(weights1)"
   ]
  },
  {
   "cell_type": "code",
   "execution_count": null,
   "metadata": {
    "collapsed": true
   },
   "outputs": [],
   "source": []
  },
  {
   "cell_type": "code",
   "execution_count": null,
   "metadata": {
    "collapsed": true
   },
   "outputs": [],
   "source": [
    "all_features = ['bedrooms',\n",
    "                'bathrooms',\n",
    "                'sqft_living',\n",
    "                'sqft_lot',\n",
    "                'floors',\n",
    "                'waterfront', \n",
    "                'view', \n",
    "                'condition', \n",
    "                'grade',\n",
    "                'sqft_above',\n",
    "                'sqft_basement',\n",
    "                'yr_built', \n",
    "                'yr_renovated']\n"
   ]
  },
  {
   "cell_type": "code",
   "execution_count": null,
   "metadata": {
    "collapsed": false
   },
   "outputs": [],
   "source": [
    "def format_feats(data, all_features):\n",
    "    # hack due to possibly mistaken encoding of floors in the csv files\n",
    "    tmp = np.empty((len(data['floors'])), dtype=np.float64)\n",
    "    for i in range(len(data['floors'])):\n",
    "        tmp[i] = np.float(data['floors'][i][1:-1])\n",
    "        # [1:-1] -> for some reason they are encoded as \"[num]\" and cannot \n",
    "        # be converted with an obvious way otherwise.\n",
    "    \n",
    "    inp_tr = [np.ones_like(tmp)]\n",
    "    for ft in all_features:\n",
    "        if ft == 'floors':\n",
    "            d1 = tmp\n",
    "        else:\n",
    "            d1 = data[ft]\n",
    "        assert(not np.any(np.isnan(d1)))\n",
    "        inp_tr.append(d1)\n",
    "\n",
    "    inp_tr = np.array(inp_tr).T\n",
    "    return inp_tr\n",
    "\n",
    "\n",
    "def aux_print_nonzero_weights(weights, all_features):\n",
    "    idx = np.where(weights != 0.)\n",
    "    for i in idx[0]:\n",
    "        if i == 0:\n",
    "            print('intercept')\n",
    "            continue\n",
    "        print(all_features[i - 1])"
   ]
  },
  {
   "cell_type": "code",
   "execution_count": null,
   "metadata": {
    "collapsed": false
   },
   "outputs": [],
   "source": [
    "inp_tr = format_feats(data, all_features)\n",
    "output = data['price']\n",
    "inp_tr_n, norms_tr = normalize_features(inp_tr)\n",
    "\n",
    "# initial weights\n",
    "in_w = np.zeros((inp_tr.shape[1]))"
   ]
  },
  {
   "cell_type": "code",
   "execution_count": null,
   "metadata": {
    "collapsed": false
   },
   "outputs": [],
   "source": [
    "weights1e7 = lasso_cyclical_coordinate_descent(inp_tr_n, output, in_w, l1_penalty, tolerance)\n",
    "print('Weights with l1_pen = {}: \\n{}'.format(l1_penalty, weights1e7))\n",
    "aux_print_nonzero_weights(weights1e7, all_features)"
   ]
  },
  {
   "cell_type": "code",
   "execution_count": null,
   "metadata": {
    "collapsed": false
   },
   "outputs": [],
   "source": [
    "in_w = np.zeros((inp_tr.shape[1]))\n",
    "l1_penalty = 1e8\n",
    "weights1e8 = lasso_cyclical_coordinate_descent(inp_tr_n, output, in_w, l1_penalty, tolerance)\n",
    "print('Weights with l1_pen = {}: \\n{}'.format(l1_penalty, weights1e8))\n",
    "aux_print_nonzero_weights(weights1e8, all_features)"
   ]
  },
  {
   "cell_type": "code",
   "execution_count": null,
   "metadata": {
    "collapsed": false
   },
   "outputs": [],
   "source": [
    "in_w = np.zeros((inp_tr.shape[1]))\n",
    "l1_penalty = 1e4\n",
    "weights1e4 = lasso_cyclical_coordinate_descent(inp_tr_n, output, in_w, l1_penalty, 5e5)\n",
    "print('Weights with l1_pen = {}: \\n{}'.format(l1_penalty, weights1e4))\n",
    "aux_print_nonzero_weights(weights1e4, all_features)"
   ]
  },
  {
   "cell_type": "markdown",
   "metadata": {},
   "source": [
    "# Normalise the weights learnt"
   ]
  },
  {
   "cell_type": "code",
   "execution_count": null,
   "metadata": {
    "collapsed": false
   },
   "outputs": [],
   "source": [
    "normalized_weights1e7 = weights1e7 / norms_tr\n",
    "print normalized_weights1e7\n",
    "normalized_weights1e8 = weights1e8 / norms_tr\n",
    "normalized_weights1e4 = weights1e4 / norms_tr"
   ]
  },
  {
   "cell_type": "code",
   "execution_count": null,
   "metadata": {
    "collapsed": false
   },
   "outputs": [],
   "source": [
    "# test on testset\n",
    "inp_t = format_feats(d_test, all_features)\n",
    "assert(inp_tr.shape[1] ==  inp_t.shape[1])  # should have the same feats as in training\n",
    "out_t = d_test['price']"
   ]
  },
  {
   "cell_type": "code",
   "execution_count": null,
   "metadata": {
    "collapsed": false
   },
   "outputs": [],
   "source": [
    "y_pred = predict_outcome(inp_t, normalized_weights1e7)\n",
    "print(compute_rss_lasso(y_pred, out_t, normalized_weights1e7[1:]))"
   ]
  },
  {
   "cell_type": "code",
   "execution_count": null,
   "metadata": {
    "collapsed": false
   },
   "outputs": [],
   "source": [
    "y_pred = predict_outcome(inp_t, normalized_weights1e8)\n",
    "print(compute_rss_lasso(y_pred, out_t, normalized_weights1e8[1:]))"
   ]
  },
  {
   "cell_type": "code",
   "execution_count": null,
   "metadata": {
    "collapsed": false
   },
   "outputs": [],
   "source": [
    "y_pred = predict_outcome(inp_t, normalized_weights1e4)\n",
    "print(compute_rss_lasso(y_pred, out_t, normalized_weights1e4[1:]))"
   ]
  },
  {
   "cell_type": "code",
   "execution_count": null,
   "metadata": {
    "collapsed": true
   },
   "outputs": [],
   "source": []
  }
 ],
 "metadata": {
  "kernelspec": {
   "display_name": "Python 2",
   "language": "python",
   "name": "python2"
  },
  "language_info": {
   "codemirror_mode": {
    "name": "ipython",
    "version": 2
   },
   "file_extension": ".py",
   "mimetype": "text/x-python",
   "name": "python",
   "nbconvert_exporter": "python",
   "pygments_lexer": "ipython2",
   "version": "2.7.11"
  }
 },
 "nbformat": 4,
 "nbformat_minor": 0
}
