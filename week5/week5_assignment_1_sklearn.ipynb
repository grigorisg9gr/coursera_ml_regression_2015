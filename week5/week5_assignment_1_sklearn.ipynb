{
 "cells": [
  {
   "cell_type": "raw",
   "metadata": {},
   "source": [
    "In this assignment, we use pre-built lasso regression (sklearn) to select features. \n",
    "This includes running a regression with different L1 penalties, validation, additional contrainsts. "
   ]
  },
  {
   "cell_type": "code",
   "execution_count": null,
   "metadata": {
    "collapsed": true
   },
   "outputs": [],
   "source": [
    "import numpy as np\n",
    "import matplotlib.pyplot as plt\n",
    "%matplotlib inline\n",
    "from sklearn import linear_model"
   ]
  },
  {
   "cell_type": "code",
   "execution_count": null,
   "metadata": {
    "collapsed": true
   },
   "outputs": [],
   "source": [
    "data_all = np.genfromtxt('../data/kc_house_data.csv', dtype=None, delimiter=',', names=True)\n",
    "data = np.genfromtxt('../data/wk3_kc_house_train_data.csv', dtype=None, delimiter=',', names=True)\n",
    "d_val = np.genfromtxt('../data/wk3_kc_house_valid_data.csv', dtype=None, delimiter=',', names=True)\n",
    "d_test = np.genfromtxt('../data/wk3_kc_house_test_data.csv', dtype=None, delimiter=',', names=True)\n",
    "\n",
    "# alternative way with titles\n",
    "# data = np.genfromtxt('../data/kc_house_train_data.csv', delimiter=',', skip_header=1)\n",
    "# d_test = np.genfromtxt('../data/kc_house_test_data.csv', delimiter=',', skip_header=1)"
   ]
  },
  {
   "cell_type": "code",
   "execution_count": null,
   "metadata": {
    "collapsed": false
   },
   "outputs": [],
   "source": [
    "def tmp_format_in_out(data):\n",
    "    sqft_living_sqrt = np.sqrt(data['sqft_living'])\n",
    "    sqft_lot_sqrt = np.sqrt(data['sqft_lot'])\n",
    "    bedrooms_sq = np.multiply(data['bedrooms'], data['bedrooms'])\n",
    "\n",
    "    tmp = np.empty((len(data['floors'])), dtype=np.float64)\n",
    "    for i in range(len(data['floors'])):\n",
    "        tmp[i] = np.float(data['floors'][i][1:-1])\n",
    "        # [1:-1] -> for some reason they are encoded as \"[num]\" and cannot \n",
    "        # be converted with an obvious way otherwise.\n",
    "\n",
    "    floors_sq = np.multiply(tmp, tmp)\n",
    "    \n",
    "    c1 = [sqft_living_sqrt, sqft_lot_sqrt, bedrooms_sq, floors_sq, tmp]\n",
    "    lf = ['bedrooms', 'bathrooms', 'sqft_living', 'sqft_lot',\n",
    "          'waterfront', 'view', 'condition', 'grade', 'sqft_above',\n",
    "          'sqft_basement', 'yr_built', 'yr_renovated']\n",
    "    for ft in lf:\n",
    "        d1 = data[ft]\n",
    "        assert(not np.any(np.isnan(d1)))\n",
    "        c1.append(d1)\n",
    "    \n",
    "    inp = np.array(c1).T\n",
    "    output = data['price']\n",
    "    \n",
    "    return inp, output"
   ]
  },
  {
   "cell_type": "code",
   "execution_count": null,
   "metadata": {
    "collapsed": false
   },
   "outputs": [],
   "source": [
    "inp, output = tmp_format_in_out(data_all)"
   ]
  },
  {
   "cell_type": "code",
   "execution_count": null,
   "metadata": {
    "collapsed": false
   },
   "outputs": [],
   "source": [
    "from sklearn import linear_model  # using scikit-learn\n",
    "\n",
    "model_all = linear_model.Lasso(alpha=5e2, normalize=True) # set parameters\n",
    "model_all.fit(inp, output) # learn weights\n",
    "print(model_all.coef_)\n",
    "print(np.where(model_all.coef_ != 0))"
   ]
  },
  {
   "cell_type": "code",
   "execution_count": null,
   "metadata": {
    "collapsed": true
   },
   "outputs": [],
   "source": [
    "# format the train, valid, test data with the specified feats\n",
    "inp, output = tmp_format_in_out(data)\n",
    "inp_v, output_v = tmp_format_in_out(d_val)\n",
    "inp_t, output_t = tmp_format_in_out(d_test)"
   ]
  },
  {
   "cell_type": "code",
   "execution_count": null,
   "metadata": {
    "collapsed": true
   },
   "outputs": [],
   "source": [
    "def compute_rss_lasso(y_pred, y_true, w):\n",
    "    erri = y_pred - y_true\n",
    "    return np.sum(np.multiply(erri, erri)) + np.linalg.norm(w, 1)"
   ]
  },
  {
   "cell_type": "code",
   "execution_count": null,
   "metadata": {
    "collapsed": true
   },
   "outputs": [],
   "source": [
    "rss_v = []  # save the RSS on validation set\n",
    "l1_pool = np.logspace(1, 7, num=13)\n",
    "for l1_penalty in l1_pool:\n",
    "    model = linear_model.Lasso(alpha=l1_penalty, normalize=True)\n",
    "    model.fit(inp, output)\n",
    "    y_pred = model.predict(inp_v)\n",
    "    rss_v.append(compute_rss_lasso(y_pred, output_v, model.coef_))"
   ]
  },
  {
   "cell_type": "code",
   "execution_count": null,
   "metadata": {
    "collapsed": false
   },
   "outputs": [],
   "source": [
    "# find the l1_penalty that minimises the rss on validation set\n",
    "rss_v = np.array(rss_v)\n",
    "argsort = np.argsort(rss_v)\n",
    "best_l1 = l1_pool[argsort[0]]\n",
    "print('The min RSS by {} l1_penalty.'.format(best_l1))"
   ]
  },
  {
   "cell_type": "code",
   "execution_count": null,
   "metadata": {
    "collapsed": false
   },
   "outputs": [],
   "source": [
    "# compute RSS on test set\n",
    "model = linear_model.Lasso(alpha=best_l1, normalize=True)\n",
    "model.fit(inp, output)\n",
    "y_pred = model.predict(inp_t)\n",
    "\n",
    "rss = compute_rss_lasso(y_pred, output_t, model.coef_)\n",
    "\n",
    "print('Nonzero coef: {}'.format(np.count_nonzero(model.coef_) + np.count_nonzero(model.intercept_)))"
   ]
  },
  {
   "cell_type": "markdown",
   "metadata": {},
   "source": [
    "# Build model with specific non-zero features"
   ]
  },
  {
   "cell_type": "code",
   "execution_count": null,
   "metadata": {
    "collapsed": false
   },
   "outputs": [],
   "source": [
    "max_nonzeros = 7\n",
    "\n",
    "more_nonzeros = max_nonzeros + 100 \n",
    "less_nonzeros = 0\n",
    "l1_penalty_min, l1_penalty_max = 0, 0\n",
    "\n",
    "for l1_penalty in np.logspace(1, 4, num=20):\n",
    "    model = linear_model.Lasso(alpha=l1_penalty, normalize=True)\n",
    "    model.fit(inp, output)\n",
    "    nz = np.count_nonzero(model.coef_) + np.count_nonzero(model.intercept_)\n",
    "    \n",
    "    if nz > max_nonzeros and nz <= more_nonzeros:  # = because this is an ascending l1_p list\n",
    "        assert(l1_penalty_min < l1_penalty)\n",
    "        l1_penalty_min = l1_penalty\n",
    "        more_nonzeros = nz\n",
    "        \n",
    "    if nz < max_nonzeros and nz > less_nonzeros:\n",
    "        l1_penalty_max = l1_penalty\n",
    "        less_nonzeros = nz"
   ]
  },
  {
   "cell_type": "code",
   "execution_count": null,
   "metadata": {
    "collapsed": false
   },
   "outputs": [],
   "source": [
    "print(l1_penalty_max)"
   ]
  },
  {
   "cell_type": "code",
   "execution_count": null,
   "metadata": {
    "collapsed": false
   },
   "outputs": [],
   "source": [
    "rss_v = []  # save the RSS on validation set\n",
    "l1_spec = []\n",
    "l1_pool = np.linspace(l1_penalty_min,l1_penalty_max,20)\n",
    "for l1_penalty in l1_pool:\n",
    "    model = linear_model.Lasso(alpha=l1_penalty, normalize=True)\n",
    "    model.fit(inp, output)\n",
    "    nz = np.count_nonzero(model.coef_) + np.count_nonzero(model.intercept_)\n",
    "    if nz == max_nonzeros:\n",
    "        l1_spec.append(l1_penalty)    \n",
    "        y_pred = model.predict(inp_v)\n",
    "        rss_v.append(compute_rss_lasso(y_pred, output_v, model.coef_))"
   ]
  },
  {
   "cell_type": "code",
   "execution_count": null,
   "metadata": {
    "collapsed": false
   },
   "outputs": [],
   "source": [
    "rss_v = np.array(rss_v)\n",
    "argsort = np.argsort(rss_v)\n",
    "best_l1 = l1_spec[argsort[0]]\n",
    "print('The min RSS by {} l1_penalty.'.format(best_l1))"
   ]
  },
  {
   "cell_type": "code",
   "execution_count": null,
   "metadata": {
    "collapsed": false
   },
   "outputs": [],
   "source": [
    "# train a model on the best l1\n",
    "model = linear_model.Lasso(alpha=best_l1, normalize=True)\n",
    "model.fit(inp, output)\n",
    "print model.coef_\n",
    "y_pred = model.predict(inp_t)\n",
    "\n",
    "rss = compute_rss_lasso(y_pred, output_t, model.coef_)\n",
    "\n",
    "print('Nonzero coef: {}'.format(np.count_nonzero(model.coef_) + np.count_nonzero(model.intercept_)))\n"
   ]
  },
  {
   "cell_type": "code",
   "execution_count": null,
   "metadata": {
    "collapsed": false
   },
   "outputs": [],
   "source": [
    "print(np.where(model.coef_ != 0))"
   ]
  },
  {
   "cell_type": "code",
   "execution_count": null,
   "metadata": {
    "collapsed": true
   },
   "outputs": [],
   "source": []
  }
 ],
 "metadata": {
  "kernelspec": {
   "display_name": "Python 2",
   "language": "python",
   "name": "python2"
  },
  "language_info": {
   "codemirror_mode": {
    "name": "ipython",
    "version": 2
   },
   "file_extension": ".py",
   "mimetype": "text/x-python",
   "name": "python",
   "nbconvert_exporter": "python",
   "pygments_lexer": "ipython2",
   "version": "2.7.11"
  }
 },
 "nbformat": 4,
 "nbformat_minor": 0
}
