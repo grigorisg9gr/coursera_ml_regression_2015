{
 "cells": [
  {
   "cell_type": "code",
   "execution_count": null,
   "metadata": {
    "collapsed": true
   },
   "outputs": [],
   "source": [
    "import numpy as np"
   ]
  },
  {
   "cell_type": "code",
   "execution_count": null,
   "metadata": {
    "collapsed": true
   },
   "outputs": [],
   "source": [
    "data = np.genfromtxt('../data/kc_house_train_data.csv', delimiter=',')\n",
    "# since we imported them with numpy, the first row with chars \n",
    "# might be nan's, so we want to effectively ignore that.\n",
    "# data = my_data[1:, :]"
   ]
  },
  {
   "cell_type": "code",
   "execution_count": null,
   "metadata": {
    "collapsed": false
   },
   "outputs": [],
   "source": [
    "input_feature = data[1:, 5]\n",
    "output_feature = data[1:, 2]"
   ]
  },
  {
   "cell_type": "code",
   "execution_count": null,
   "metadata": {
    "collapsed": false
   },
   "outputs": [],
   "source": [
    "def simple_linear_regression(input_feature, output_feature):\n",
    "    # computes the closed form solution for a linear regression\n",
    "    # of 1 feature. That is, the intercept and slope of the line.\n",
    "    N = np.max(input_feature.shape)\n",
    "    assert(N == input_feature.shape == output_feature.shape)\n",
    "    sigma_xi = np.sum(input_feature)\n",
    "    sigma_yi = np.sum(output_feature)\n",
    "    # ensure that no nan's are included\n",
    "    assert(not (np.isnan(sigma_xi) or np.isnan(sigma_yi)))\n",
    "\n",
    "    sigma_xiyi = np.sum(np.multiply(input_feature, output_feature))\n",
    "    sigma_xixi = np.sum(np.multiply(input_feature, input_feature))\n",
    "\n",
    "    # compute the closed form solutions for w_0 and w_1\n",
    "    slope = (sigma_xiyi - sigma_xi / N * sigma_yi) / (sigma_xixi - (sigma_xi) ** 2 / N)\n",
    "    intercept = sigma_yi / N - slope * sigma_xi / N\n",
    "    \n",
    "    return (intercept, slope)"
   ]
  },
  {
   "cell_type": "code",
   "execution_count": null,
   "metadata": {
    "collapsed": false
   },
   "outputs": [],
   "source": [
    "def get_regression_predictions(input_feature, intercept, slope):\n",
    "    # given the params of the one feat linear regression, returns\n",
    "    # the predicted point.\n",
    "    return (intercept + slope * input_feature)"
   ]
  },
  {
   "cell_type": "code",
   "execution_count": null,
   "metadata": {
    "collapsed": false
   },
   "outputs": [],
   "source": [
    "(intercept, slope) = simple_linear_regression(input_feature, output_feature)\n",
    "print(intercept, slope)"
   ]
  },
  {
   "cell_type": "code",
   "execution_count": null,
   "metadata": {
    "collapsed": false
   },
   "outputs": [],
   "source": [
    "# Get a prediction for the price of a 2650 sq feet house\n",
    "get_regression_predictions(2650, intercept, slope)"
   ]
  },
  {
   "cell_type": "code",
   "execution_count": null,
   "metadata": {
    "collapsed": false
   },
   "outputs": [],
   "source": [
    "def get_residual_sum_of_squares(input_feature, output, intercept, slope):\n",
    "    # given the params of the one feat linear regression, returns the \n",
    "    # residual sum of squares.\n",
    "    erri = output - (intercept + slope * input_feature)\n",
    "    return (np.sum(np.multiply(erri, erri)))"
   ]
  },
  {
   "cell_type": "code",
   "execution_count": null,
   "metadata": {
    "collapsed": false
   },
   "outputs": [],
   "source": [
    "(RSS) = get_residual_sum_of_squares(input_feature, output_feature, intercept, slope)\n",
    "print(RSS)"
   ]
  },
  {
   "cell_type": "code",
   "execution_count": null,
   "metadata": {
    "collapsed": false
   },
   "outputs": [],
   "source": [
    "def inverse_regression_predictions(output, intercept, slope):\n",
    "    # given the params of the one feat linear regression, returns\n",
    "    # the estimated input (x).\n",
    "    assert(slope != 0.)\n",
    "    return ((output - intercept) / slope)"
   ]
  },
  {
   "cell_type": "code",
   "execution_count": null,
   "metadata": {
    "collapsed": false
   },
   "outputs": [],
   "source": [
    "# Estimate the sq feet of a house sold 8 * 10 ^ 5 $\n",
    "inverse_regression_predictions(800000, intercept, slope)"
   ]
  },
  {
   "cell_type": "code",
   "execution_count": null,
   "metadata": {
    "collapsed": false
   },
   "outputs": [],
   "source": [
    "# compute the intercept and slope for different input features\n",
    "in_f = data[1:, 3]\n",
    "(bedroom_intercept, bedroom_slope) = simple_linear_regression(in_f, output_feature)\n",
    "print(bedroom_intercept, bedroom_slope)\n",
    "(RSS_bedroom) = get_residual_sum_of_squares(in_f, output_feature, \n",
    "                                            bedroom_intercept, bedroom_slope)\n",
    "print(RSS_bedroom)"
   ]
  },
  {
   "cell_type": "markdown",
   "metadata": {},
   "source": [
    "# TEST DATA"
   ]
  },
  {
   "cell_type": "code",
   "execution_count": null,
   "metadata": {
    "collapsed": true
   },
   "outputs": [],
   "source": [
    "data_test = np.genfromtxt('../data/kc_house_test_data.csv', delimiter=',')\n",
    "input_feature = data_test[1:, 5]\n",
    "output_feature = data_test[1:, 2]"
   ]
  },
  {
   "cell_type": "code",
   "execution_count": null,
   "metadata": {
    "collapsed": false
   },
   "outputs": [],
   "source": [
    "(RSS) = get_residual_sum_of_squares(input_feature, output_feature, intercept, slope)\n",
    "print(RSS)"
   ]
  },
  {
   "cell_type": "code",
   "execution_count": null,
   "metadata": {
    "collapsed": false
   },
   "outputs": [],
   "source": [
    "in_f = data_test[1:, 3]\n",
    "(RSS_bedroom) = get_residual_sum_of_squares(in_f, output_feature, \n",
    "                                            bedroom_intercept, bedroom_slope)\n",
    "print(RSS_bedroom)"
   ]
  },
  {
   "cell_type": "code",
   "execution_count": null,
   "metadata": {
    "collapsed": true
   },
   "outputs": [],
   "source": []
  }
 ],
 "metadata": {
  "kernelspec": {
   "display_name": "Python 2",
   "language": "python",
   "name": "python2"
  },
  "language_info": {
   "codemirror_mode": {
    "name": "ipython",
    "version": 2
   },
   "file_extension": ".py",
   "mimetype": "text/x-python",
   "name": "python",
   "nbconvert_exporter": "python",
   "pygments_lexer": "ipython2",
   "version": "2.7.11"
  }
 },
 "nbformat": 4,
 "nbformat_minor": 0
}
