{
 "cells": [
  {
   "cell_type": "code",
   "execution_count": null,
   "metadata": {
    "collapsed": true
   },
   "outputs": [],
   "source": [
    "import numpy as np"
   ]
  },
  {
   "cell_type": "code",
   "execution_count": null,
   "metadata": {
    "collapsed": true
   },
   "outputs": [],
   "source": [
    "data = np.genfromtxt('../data/kc_house_train_data.csv', delimiter=',')\n",
    "d_test = np.genfromtxt('../data/kc_house_test_data.csv', delimiter=',')\n",
    "# since we imported them with numpy, the first row with chars \n",
    "# might be nan's, so we want to effectively ignore that.\n",
    "# data = my_data[1:, :]"
   ]
  },
  {
   "cell_type": "code",
   "execution_count": null,
   "metadata": {
    "collapsed": false
   },
   "outputs": [],
   "source": [
    "# bedrooms squared \n",
    "ftt1 = np.multiply(d_test[1:, 3], d_test[1:, 3])\n",
    "print(np.average(ftt1))\n",
    "# bedroom * bathroom\n",
    "ftt2 = np.multiply(d_test[1:, 3], d_test[1:, 4])\n",
    "print(np.average(ftt2))\n",
    "# log_sqft_living\n",
    "ftt3 = np.log(d_test[1:, 5])\n",
    "print(np.average(ftt3))\n",
    "# lat plus long\n",
    "ftt4 = d_test[1:, 17] + d_test[1:, 18]\n",
    "print(np.average(ftt4))\n"
   ]
  },
  {
   "cell_type": "markdown",
   "metadata": {},
   "source": [
    "# Use sklearn for the linear regression"
   ]
  },
  {
   "cell_type": "code",
   "execution_count": null,
   "metadata": {
    "collapsed": true
   },
   "outputs": [],
   "source": [
    "from sklearn import linear_model\n",
    "y = data[1:, 2]"
   ]
  },
  {
   "cell_type": "code",
   "execution_count": null,
   "metadata": {
    "collapsed": true
   },
   "outputs": [],
   "source": [
    "# additional features from training data\n",
    "# bedrooms squared \n",
    "ft1 = np.multiply(data[1:, 3], data[1:, 3])\n",
    "# bedroom * bathroom\n",
    "ft2 = np.multiply(data[1:, 3], data[1:, 4])\n",
    "# log_sqft_living\n",
    "ft3 = np.log(data[1:, 5])\n",
    "# lat plus long\n",
    "ft4 = data[1:, 17] + data[1:, 18]"
   ]
  },
  {
   "cell_type": "code",
   "execution_count": null,
   "metadata": {
    "collapsed": false
   },
   "outputs": [],
   "source": [
    "# model1: (Model 1: ‘sqft_living’, ‘bedrooms’, ‘bathrooms’, ‘lat’, and ‘long’)\n",
    "m1 = np.array([data[1:, 5], data[1:, 3], data[1:, 4], data[1:, 17], data[1:, 18]]).T\n",
    "regr1 = linear_model.LinearRegression()\n",
    "regr1.fit(m1, y)\n",
    "print('Coefficients: {}'.format(regr1.coef_))\n",
    "print('RSS on training data: {}'.format(regr1.residues_))"
   ]
  },
  {
   "cell_type": "code",
   "execution_count": null,
   "metadata": {
    "collapsed": false
   },
   "outputs": [],
   "source": [
    "# model2: (Model 2: ‘sqft_living’, ‘bedrooms’, ‘bathrooms’, ‘lat’,‘long’, and ‘bed_bath_rooms’)\n",
    "m2 = np.array([data[1:, 5], data[1:, 3], data[1:, 4], data[1:, 17], data[1:, 18], ft2]).T\n",
    "regr2 = linear_model.LinearRegression()\n",
    "regr2.fit(m2, y)\n",
    "print('Coefficients: {}'.format(regr2.coef_))\n",
    "print('RSS on training data: {}'.format(regr2.residues_))\n",
    "assert(not np.all(regr2.coef_ == regr1.coef_))  # ensure that they are not all the same"
   ]
  },
  {
   "cell_type": "code",
   "execution_count": null,
   "metadata": {
    "collapsed": false
   },
   "outputs": [],
   "source": [
    "# model3: (Model 3: ‘sqft_living’, ‘bedrooms’, ‘bathrooms’, ‘lat’,‘long’, ‘bed_bath_rooms’, \n",
    "#          ‘bedrooms_squared’, ‘log_sqft_living’, and ‘lat_plus_long’)\n",
    "m3 = np.array([data[1:, 5], data[1:, 3], data[1:, 4], data[1:, 17], data[1:, 18], ft2, ft1, ft3, ft4]).T\n",
    "regr3 = linear_model.LinearRegression()\n",
    "regr3.fit(m3, y)\n",
    "print('Coefficients: {}'.format(regr3.coef_))\n",
    "print('RSS on training data: {}'.format(regr3.residues_))\n",
    "assert(not np.all(regr3.coef_ == regr2.coef_))  # ensure that they are not all the same\n",
    "\n",
    "def compute_rss(y_pred, y_true):\n",
    "    erri = y_pred - y_true\n",
    "    return np.sum(np.multiply(erri, erri))\n",
    "\n",
    "# alternative way to extract the RSS: \n",
    "y3 = regr3.predict(m3)\n",
    "print('RSS on training data: {}'.format(compute_rss(y3, y)))"
   ]
  },
  {
   "cell_type": "markdown",
   "metadata": {},
   "source": [
    "# Use test data to compute RSS"
   ]
  },
  {
   "cell_type": "code",
   "execution_count": null,
   "metadata": {
    "collapsed": true
   },
   "outputs": [],
   "source": [
    "yt = d_test[1:, 2]  # groundtruth data"
   ]
  },
  {
   "cell_type": "code",
   "execution_count": null,
   "metadata": {
    "collapsed": true
   },
   "outputs": [],
   "source": [
    "def compute_rss(y_pred, y_true):\n",
    "    erri = y_pred - y_true\n",
    "    return np.sum(np.multiply(erri, erri))"
   ]
  },
  {
   "cell_type": "code",
   "execution_count": null,
   "metadata": {
    "collapsed": false
   },
   "outputs": [],
   "source": [
    "mt1 = np.array([d_test[1:, 5], d_test[1:, 3], d_test[1:, 4], d_test[1:, 17], d_test[1:, 18]]).T\n",
    "yp1 = regr1.predict(mt1)\n",
    "print('RSS on test data: {}'.format(compute_rss(yp1, yt)))"
   ]
  },
  {
   "cell_type": "code",
   "execution_count": null,
   "metadata": {
    "collapsed": false
   },
   "outputs": [],
   "source": [
    "mt2 = np.array([d_test[1:, 5], d_test[1:, 3], d_test[1:, 4], d_test[1:, 17], d_test[1:, 18], ftt2]).T\n",
    "yp2 = regr2.predict(mt2)\n",
    "print('RSS on test data: {}'.format(compute_rss(yp2, yt)))"
   ]
  },
  {
   "cell_type": "code",
   "execution_count": null,
   "metadata": {
    "collapsed": false
   },
   "outputs": [],
   "source": [
    "mt3 = np.array([d_test[1:, 5], d_test[1:, 3], d_test[1:, 4], d_test[1:, 17], \n",
    "                d_test[1:, 18], ftt2, ftt1, ftt3, ftt4]).T\n",
    "yp3 = regr3.predict(mt3)\n",
    "print('RSS on test data: {}'.format(compute_rss(yp3, yt)))"
   ]
  },
  {
   "cell_type": "code",
   "execution_count": null,
   "metadata": {
    "collapsed": true
   },
   "outputs": [],
   "source": []
  }
 ],
 "metadata": {
  "kernelspec": {
   "display_name": "Python 2",
   "language": "python",
   "name": "python2"
  },
  "language_info": {
   "codemirror_mode": {
    "name": "ipython",
    "version": 2
   },
   "file_extension": ".py",
   "mimetype": "text/x-python",
   "name": "python",
   "nbconvert_exporter": "python",
   "pygments_lexer": "ipython2",
   "version": "2.7.11"
  }
 },
 "nbformat": 4,
 "nbformat_minor": 0
}
