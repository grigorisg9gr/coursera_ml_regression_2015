{
 "cells": [
  {
   "cell_type": "code",
   "execution_count": null,
   "metadata": {
    "collapsed": true
   },
   "outputs": [],
   "source": [
    "import numpy as np"
   ]
  },
  {
   "cell_type": "code",
   "execution_count": null,
   "metadata": {
    "collapsed": true
   },
   "outputs": [],
   "source": [
    "def predict_outcome(feature_matrix, weights):\n",
    "    return np.dot(feature_matrix, weights)\n",
    "\n",
    "def feature_derivative(errors, feature):\n",
    "    return 2 * np.sum(np.multiply(feature, errors))\n",
    "#     return 2 * np.dot(feature, errors)"
   ]
  },
  {
   "cell_type": "code",
   "execution_count": null,
   "metadata": {
    "collapsed": false
   },
   "outputs": [],
   "source": [
    "def regression_gradient_descent(feature_matrix, output, initial_weights, step_size, tolerance):\n",
    "    converged = False\n",
    "    weights = np.array(initial_weights, dtype=np.float)\n",
    "    while not converged:\n",
    "        # compute the predictions based on feature_matrix and weights:\n",
    "        predictions = predict_outcome(feature_matrix, weights)\n",
    "        # compute the errors as predictions - output:\n",
    "        err = predictions - output\n",
    "        \n",
    "        gradient_sum_squares = 0 # initialize the gradient\n",
    "        # while not converged, update each weight individually:\n",
    "        for i in range(len(weights)):\n",
    "            # Recall that feature_matrix[:, i] is the feature column associated with weights[i]\n",
    "            # compute the derivative for weight[i]:\n",
    "            gri = feature_derivative(err, feature_matrix[:, i])\n",
    "            \n",
    "            # add the squared derivative to the gradient magnitude\n",
    "            gradient_sum_squares += gri ** 2\n",
    "            \n",
    "            # update the weight based on step size and derivative:\n",
    "            weights[i] = weights[i] - gri * step_size\n",
    "            \n",
    "        gradient_magnitude = np.sqrt(gradient_sum_squares)\n",
    "        if gradient_magnitude < tolerance:\n",
    "            converged = True\n",
    "            \n",
    "    return(weights)"
   ]
  },
  {
   "cell_type": "code",
   "execution_count": null,
   "metadata": {
    "collapsed": true
   },
   "outputs": [],
   "source": [
    "data = np.genfromtxt('../data/kc_house_train_data.csv', delimiter=',')\n",
    "d_test = np.genfromtxt('../data/kc_house_test_data.csv', delimiter=',')\n",
    "# since we imported them with numpy, the first row with chars \n",
    "# might be nan's, so we want to effectively ignore that."
   ]
  },
  {
   "cell_type": "code",
   "execution_count": null,
   "metadata": {
    "collapsed": true
   },
   "outputs": [],
   "source": [
    "# Format the data as mentioned in the instructions"
   ]
  },
  {
   "cell_type": "code",
   "execution_count": null,
   "metadata": {
    "collapsed": true
   },
   "outputs": [],
   "source": [
    "inp = data[1:, 5]\n",
    "output = data[1:, 2]\n",
    "# format the input feature matrix as instructed with adding the ones column.\n",
    "ft_m = np.array([np.ones_like(inp), inp]).T\n",
    "\n",
    "initial_weights = [-47000., 1.]\n",
    "step_size = 7e-12\n",
    "tolerance = 2.5e7"
   ]
  },
  {
   "cell_type": "markdown",
   "metadata": {},
   "source": [
    "# Model 1"
   ]
  },
  {
   "cell_type": "code",
   "execution_count": null,
   "metadata": {
    "collapsed": false
   },
   "outputs": [],
   "source": [
    "# call the regression_gradient_descent()\n",
    "ft_m = np.array([np.ones_like(inp), inp]).T\n",
    "simple_weights = regression_gradient_descent(ft_m, output, initial_weights, step_size, tolerance)"
   ]
  },
  {
   "cell_type": "code",
   "execution_count": null,
   "metadata": {
    "collapsed": false
   },
   "outputs": [],
   "source": [
    "print(simple_weights)"
   ]
  },
  {
   "cell_type": "code",
   "execution_count": null,
   "metadata": {
    "collapsed": true
   },
   "outputs": [],
   "source": [
    "# test data\n",
    "inp_t = d_test[1:, 5]\n",
    "output_t = d_test[1:, 2]"
   ]
  },
  {
   "cell_type": "code",
   "execution_count": null,
   "metadata": {
    "collapsed": false
   },
   "outputs": [],
   "source": [
    "pred1_val = predict_outcome(np.array([1., inp_t[0]]), simple_weights)\n",
    "print(pred1_val)"
   ]
  },
  {
   "cell_type": "code",
   "execution_count": null,
   "metadata": {
    "collapsed": false
   },
   "outputs": [],
   "source": [
    "#compute RSS on test data\n",
    "def compute_rss(y_pred, y_true):\n",
    "    erri = y_pred - y_true\n",
    "    return np.sum(np.multiply(erri, erri))\n",
    "\n",
    "\n",
    "ft_m_t = np.array([np.ones_like(inp_t), inp_t]).T\n",
    "pred = predict_outcome(ft_m_t, simple_weights)\n",
    "assert(pred.shape == output_t.shape)\n",
    "print(compute_rss(pred, output_t))"
   ]
  },
  {
   "cell_type": "markdown",
   "metadata": {},
   "source": [
    "# Model 2"
   ]
  },
  {
   "cell_type": "code",
   "execution_count": null,
   "metadata": {
    "collapsed": false
   },
   "outputs": [],
   "source": [
    "inp = np.array([data[1:, 5], data[1:, 19]]).T\n",
    "# format the input feature matrix as instructed with adding the ones column.\n",
    "ft_m = np.array([np.ones_like(inp[:, 0]), inp[:, 0], inp[:, 1]]).T\n",
    "\n",
    "initial_weights = [-100000., 1., 1.]\n",
    "step_size = 4e-12\n",
    "tolerance = 1e9"
   ]
  },
  {
   "cell_type": "code",
   "execution_count": null,
   "metadata": {
    "collapsed": false
   },
   "outputs": [],
   "source": [
    "simple_weights_2 = regression_gradient_descent(ft_m, output, initial_weights, step_size, tolerance)"
   ]
  },
  {
   "cell_type": "code",
   "execution_count": null,
   "metadata": {
    "collapsed": true
   },
   "outputs": [],
   "source": [
    "inp_t = np.array([d_test[1:, 5], d_test[1:, 19]]).T"
   ]
  },
  {
   "cell_type": "code",
   "execution_count": null,
   "metadata": {
    "collapsed": false
   },
   "outputs": [],
   "source": [
    "# predict the value of the first house\n",
    "pred2_val = predict_outcome(np.array([1., inp_t[0, 0], inp_t[0, 1]]), simple_weights_2)\n",
    "print(pred2_val)\n",
    "# compare the two model predictions: \n",
    "print(pred1_val - output_t[0], pred2_val - output_t[0])"
   ]
  },
  {
   "cell_type": "code",
   "execution_count": null,
   "metadata": {
    "collapsed": false
   },
   "outputs": [],
   "source": [
    "ft_m_t = np.array([np.ones_like(inp_t[:, 0]), inp_t[:, 0], inp_t[:, 1]]).T\n",
    "pred = predict_outcome(ft_m_t, simple_weights_2)\n",
    "assert(pred.shape == output_t.shape)\n",
    "print(compute_rss(pred, output_t))"
   ]
  }
 ],
 "metadata": {
  "kernelspec": {
   "display_name": "Python 2",
   "language": "python",
   "name": "python2"
  },
  "language_info": {
   "codemirror_mode": {
    "name": "ipython",
    "version": 2
   },
   "file_extension": ".py",
   "mimetype": "text/x-python",
   "name": "python",
   "nbconvert_exporter": "python",
   "pygments_lexer": "ipython2",
   "version": "2.7.11"
  }
 },
 "nbformat": 4,
 "nbformat_minor": 0
}
