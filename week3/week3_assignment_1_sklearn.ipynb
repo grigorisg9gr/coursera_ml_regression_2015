{
 "cells": [
  {
   "cell_type": "code",
   "execution_count": null,
   "metadata": {
    "collapsed": true
   },
   "outputs": [],
   "source": [
    "import numpy as np\n",
    "import matplotlib.pyplot as plt\n",
    "%matplotlib inline\n",
    "from sklearn import linear_model"
   ]
  },
  {
   "cell_type": "code",
   "execution_count": null,
   "metadata": {
    "collapsed": false
   },
   "outputs": [],
   "source": [
    "data = np.genfromtxt('../data/kc_house_train_data.csv', delimiter=',')\n",
    "d_test = np.genfromtxt('../data/kc_house_test_data.csv', delimiter=',')\n",
    "# since we imported them with numpy, the first row with chars \n",
    "# might be nan's, so we want to effectively ignore that."
   ]
  },
  {
   "cell_type": "code",
   "execution_count": null,
   "metadata": {
    "collapsed": true
   },
   "outputs": [],
   "source": [
    "def polynomial_feat(feature, degree):\n",
    "    assert(isinstance(degree, int))\n",
    "    assert(degree > 0)\n",
    "    final_ft = np.empty((feature.shape[0], degree))\n",
    "    final_ft[:, 0] = feature\n",
    "    for i in range(2, degree + 1):\n",
    "        final_ft[:, i - 1] = np.power(feature, i)\n",
    "    return final_ft"
   ]
  },
  {
   "cell_type": "code",
   "execution_count": null,
   "metadata": {
    "collapsed": true
   },
   "outputs": [],
   "source": [
    "inp = data[1:, 5]\n",
    "output = data[1:, 2]"
   ]
  },
  {
   "cell_type": "code",
   "execution_count": null,
   "metadata": {
    "collapsed": false
   },
   "outputs": [],
   "source": [
    "idx = np.argsort(inp)\n",
    "# sort the input and output according to the appropriate indices. \n",
    "inp_sorted = inp[idx]\n",
    "output_sorted = output[idx]"
   ]
  },
  {
   "cell_type": "code",
   "execution_count": null,
   "metadata": {
    "collapsed": false
   },
   "outputs": [],
   "source": [
    "degree = 3\n",
    "cc = polynomial_feat(inp_sorted, degree)"
   ]
  },
  {
   "cell_type": "code",
   "execution_count": null,
   "metadata": {
    "collapsed": false
   },
   "outputs": [],
   "source": [
    "# reshape input and output to use sklearn\n",
    "if degree == 1:\n",
    "    cc = cc.reshape((cc.shape[0], 1))\n",
    "# perform linear regression\n",
    "regr1 = linear_model.LinearRegression()\n",
    "regr1.fit(cc, output_sorted)\n",
    "# predict the values\n",
    "yp1 = regr1.predict(cc)"
   ]
  },
  {
   "cell_type": "code",
   "execution_count": null,
   "metadata": {
    "collapsed": false
   },
   "outputs": [],
   "source": [
    "plt.plot(cc, output_sorted, '.', cc, yp1, '-');"
   ]
  },
  {
   "cell_type": "markdown",
   "metadata": {},
   "source": [
    "# Use the different sets of data"
   ]
  },
  {
   "cell_type": "code",
   "execution_count": null,
   "metadata": {
    "collapsed": true
   },
   "outputs": [],
   "source": [
    "d1 = np.genfromtxt('../data/wk3_kc_house_set_1_data.csv', delimiter=',')\n",
    "d2 = np.genfromtxt('../data/wk3_kc_house_set_2_data.csv', delimiter=',')\n",
    "d3 = np.genfromtxt('../data/wk3_kc_house_set_3_data.csv', delimiter=',')\n",
    "d4 = np.genfromtxt('../data/wk3_kc_house_set_4_data.csv', delimiter=',')"
   ]
  },
  {
   "cell_type": "code",
   "execution_count": null,
   "metadata": {
    "collapsed": true
   },
   "outputs": [],
   "source": [
    "def aux_prepare_data(d, degree=15, inp=5, out=2, verbose=True):\n",
    "    # auxiliary function that: a) forms the input/output vectors, b) creates a linear \n",
    "    # prediction for the data provided. \n",
    "    inp = d[1:, inp]\n",
    "    output = d[1:, out]\n",
    "    idx = np.argsort(inp)\n",
    "    # sort the input and output according to the appropriate indices. \n",
    "    inp_sorted = inp[idx]\n",
    "    output_sorted = output[idx]\n",
    "    cc = polynomial_feat(inp_sorted, degree)\n",
    "    \n",
    "    # perform linear regression\n",
    "    # reshape input and output to use sklearn\n",
    "    if degree == 1:\n",
    "        cc = cc.reshape((cc.shape[0], 1))\n",
    "    \n",
    "    # build linear regression model\n",
    "    regr1 = linear_model.LinearRegression()\n",
    "    regr1.fit(cc, output_sorted)\n",
    "    # predict the values\n",
    "    yp = regr1.predict(cc)\n",
    "    \n",
    "    if verbose:\n",
    "        plt.figure()\n",
    "        print(regr1.intercept_, regr1.coef_)\n",
    "        plt.plot(cc, output_sorted, '.', cc, yp, '-')\n",
    "    \n",
    "    return cc, yp, output_sorted, regr1"
   ]
  },
  {
   "cell_type": "code",
   "execution_count": null,
   "metadata": {
    "collapsed": false
   },
   "outputs": [],
   "source": [
    "cc1, yp1, out1, regr1 = aux_prepare_data(d1)\n",
    "cc2, yp2, out2, regr2 = aux_prepare_data(d2)\n",
    "cc3, yp3, out3, regr3 = aux_prepare_data(d3)\n",
    "cc4, yp4, out4, regr4 = aux_prepare_data(d4)"
   ]
  },
  {
   "cell_type": "markdown",
   "metadata": {},
   "source": [
    "# Selecting a polynomial degree"
   ]
  },
  {
   "cell_type": "code",
   "execution_count": null,
   "metadata": {
    "collapsed": true
   },
   "outputs": [],
   "source": [
    "tr = np.genfromtxt('../data/wk3_kc_house_train_data.csv', delimiter=',')\n",
    "val = np.genfromtxt('../data/wk3_kc_house_valid_data.csv', delimiter=',')\n",
    "test = np.genfromtxt('../data/wk3_kc_house_test_data.csv', delimiter=',')"
   ]
  },
  {
   "cell_type": "code",
   "execution_count": null,
   "metadata": {
    "collapsed": true
   },
   "outputs": [],
   "source": [
    "def compute_rss(y_pred, y_true):\n",
    "    erri = y_pred - y_true\n",
    "    return np.sum(np.multiply(erri, erri))"
   ]
  },
  {
   "cell_type": "code",
   "execution_count": null,
   "metadata": {
    "collapsed": false
   },
   "outputs": [],
   "source": [
    "def train_valid(d, d_valid, degree=1):\n",
    "    inp = d[1:, 5]\n",
    "    output = d[1:, 2]\n",
    "    cc = polynomial_feat(inp, degree)\n",
    "    assert(cc.shape[1] == degree)\n",
    "    \n",
    "    # perform linear regression\n",
    "    # reshape input and output to use sklearn\n",
    "    if degree == 1:\n",
    "        cc = cc.reshape((cc.shape[0], 1))\n",
    "    \n",
    "    # build linear regression model\n",
    "    regr1 = linear_model.LinearRegression()\n",
    "    regr1.fit(cc, output)\n",
    "    \n",
    "    # predict the values (validation set)\n",
    "    inp_v = d_valid[1:, 5]\n",
    "    output_v = d_valid[1:, 2]\n",
    "    \n",
    "    inp_v = polynomial_feat(inp_v, degree)\n",
    "    assert(inp_v.shape[1] == degree)\n",
    "    if degree == 1:\n",
    "        inp_v = inp_v.reshape((inp_v.shape[0], 1))\n",
    "    yp = regr1.predict(inp_v)\n",
    "    \n",
    "    return compute_rss(yp, output_v)"
   ]
  },
  {
   "cell_type": "code",
   "execution_count": null,
   "metadata": {
    "collapsed": false
   },
   "outputs": [],
   "source": [
    "min1 = 1000000000000\n",
    "min_elem = 0\n",
    "for i in range(1, 16):\n",
    "    err = train_valid(tr, val, i)\n",
    "    print('Loop {} with error {}.'.format(i, err))\n",
    "    if err < min1 or i == 1:\n",
    "        min1 = err \n",
    "        min_elem = i"
   ]
  },
  {
   "cell_type": "code",
   "execution_count": null,
   "metadata": {
    "collapsed": false
   },
   "outputs": [],
   "source": [
    "# select the optimal degree from above\n",
    "degree = min_elem\n",
    "# find the rss on test data\n",
    "print('Degree {} with error {}.'.format(degree, train_valid(tr, test, degree)))"
   ]
  },
  {
   "cell_type": "code",
   "execution_count": null,
   "metadata": {
    "collapsed": true
   },
   "outputs": [],
   "source": []
  }
 ],
 "metadata": {
  "kernelspec": {
   "display_name": "Python 2",
   "language": "python",
   "name": "python2"
  },
  "language_info": {
   "codemirror_mode": {
    "name": "ipython",
    "version": 2
   },
   "file_extension": ".py",
   "mimetype": "text/x-python",
   "name": "python",
   "nbconvert_exporter": "python",
   "pygments_lexer": "ipython2",
   "version": "2.7.11"
  }
 },
 "nbformat": 4,
 "nbformat_minor": 0
}
