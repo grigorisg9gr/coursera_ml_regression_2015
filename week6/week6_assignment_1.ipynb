{
 "cells": [
  {
   "cell_type": "raw",
   "metadata": {},
   "source": [
    "Implementation of k-nearest neighbors regression. "
   ]
  },
  {
   "cell_type": "code",
   "execution_count": null,
   "metadata": {
    "collapsed": true
   },
   "outputs": [],
   "source": [
    "import numpy as np\n",
    "import matplotlib.pyplot as plt\n",
    "%matplotlib inline\n",
    "from sklearn import linear_model"
   ]
  },
  {
   "cell_type": "code",
   "execution_count": null,
   "metadata": {
    "collapsed": false
   },
   "outputs": [],
   "source": [
    "data_all = np.genfromtxt('../data/kc_house_data.csv', dtype=None, delimiter=',', names=True)\n",
    "data = np.genfromtxt('../data/kc_house_data_small_train.csv', dtype=None, delimiter=',', names=True)\n",
    "d_val = np.genfromtxt('../data/kc_house_data_validation.csv', dtype=None, delimiter=',', names=True)\n",
    "d_test = np.genfromtxt('../data/kc_house_data_small_test.csv', dtype=None, delimiter=',', names=True)"
   ]
  },
  {
   "cell_type": "code",
   "execution_count": null,
   "metadata": {
    "collapsed": true
   },
   "outputs": [],
   "source": [
    "def tmp_format_in_out(data):\n",
    "#     tmp = np.empty((len(data['floors'])), dtype=np.float64)\n",
    "    \n",
    "#     for i in range(len(data['floors'])):\n",
    "#         tmp[i] = np.float(data['floors'][i][1:-1])\n",
    "#         # [1:-1] -> for some reason they are encoded as \"[num]\" and cannot \n",
    "#         # be converted with an obvious way otherwise.\n",
    "    \n",
    "    c1 = [np.ones_like(data['floors']), data['floors']]\n",
    "    lf = ['bedrooms', 'bathrooms', 'sqft_living', 'sqft_lot',\n",
    "          'waterfront', 'view', 'condition', 'grade', 'sqft_above',\n",
    "          'sqft_basement', 'yr_built', 'yr_renovated', 'lat', 'long',\n",
    "          'sqft_living15', 'sqft_lot15']\n",
    "    for ft in lf:\n",
    "        d1 = data[ft]\n",
    "        assert(not np.any(np.isnan(d1)))\n",
    "        c1.append(d1)\n",
    "    \n",
    "    inp = np.array(c1).T\n",
    "    output = data['price']\n",
    "    \n",
    "    return inp, output\n",
    "\n",
    "def normalize_features(X):\n",
    "    # copied form module 5.\n",
    "    norms = np.linalg.norm(X, axis=0)\n",
    "    X_normalized = X / norms\n",
    "    return X_normalized, norms"
   ]
  },
  {
   "cell_type": "code",
   "execution_count": null,
   "metadata": {
    "collapsed": false
   },
   "outputs": [],
   "source": [
    "# training data\n",
    "inp, output = tmp_format_in_out(data)\n",
    "inp_n, norms = normalize_features(inp)\n",
    "\n",
    "# validation data\n",
    "inp_v, output_v = tmp_format_in_out(d_val)\n",
    "inp_n_v = inp_v / norms\n",
    "# testing data\n",
    "inp_t, output_t = tmp_format_in_out(d_test)\n",
    "inp_n_t = inp_t / norms"
   ]
  },
  {
   "cell_type": "code",
   "execution_count": null,
   "metadata": {
    "collapsed": false
   },
   "outputs": [],
   "source": [
    "# print(inp_n_t[0])\n",
    "# print(inp_n[9])"
   ]
  },
  {
   "cell_type": "code",
   "execution_count": null,
   "metadata": {
    "collapsed": false
   },
   "outputs": [],
   "source": [
    "# Euclidean norm of two samples as mentioned in the instructions\n",
    "en = np.sqrt(np.sum((inp_n_t[0] - inp_n[9]) ** 2))\n",
    "print(en)\n",
    "\n",
    "# compute the euclidean distance of the test input with the first 10 houses\n",
    "min_dist = 100\n",
    "min_dist_h = -1\n",
    "for i in range(10):\n",
    "    en = np.sqrt(np.sum((inp_n_t[0] - inp_n[i]) ** 2))\n",
    "    if en < min_dist:\n",
    "        min_dist = en\n",
    "        min_dist_h = i\n",
    "assert(min_dist_h >= 0)\n",
    "print(min_dist_h)"
   ]
  },
  {
   "cell_type": "code",
   "execution_count": null,
   "metadata": {
    "collapsed": false
   },
   "outputs": [],
   "source": [
    "diff = inp_n - inp_n_t[0]\n",
    "print (diff[-1]).sum()\n",
    "print np.sum(inp_n[-1] - inp_n_t[0])"
   ]
  },
  {
   "cell_type": "code",
   "execution_count": null,
   "metadata": {
    "collapsed": false
   },
   "outputs": [],
   "source": [
    "i = 100\n",
    "diff = inp_n - inp_n_t[i]\n",
    "distances = np.sqrt(np.sum(diff**2, axis=1))\n",
    "print(distances[100])"
   ]
  },
  {
   "cell_type": "code",
   "execution_count": null,
   "metadata": {
    "collapsed": false
   },
   "outputs": [],
   "source": [
    "def one_nearest_neighbor_regression(inp_n, inp_n_t_i):\n",
    "    diff = inp_n - inp_n_t_i\n",
    "    distances = np.sqrt(np.sum(diff**2, axis=1))\n",
    "    return distances"
   ]
  },
  {
   "cell_type": "code",
   "execution_count": null,
   "metadata": {
    "collapsed": false
   },
   "outputs": [],
   "source": [
    "# apply the 1 nearest neighbor for 2nd test house\n",
    "cc = one_nearest_neighbor_regression(inp_n, inp_n_t[2])\n",
    "cc_arg = np.argsort(cc)\n",
    "print('closest feats: {}, predicted value: {}'.format(cc_arg, output[cc_arg[0]]))"
   ]
  },
  {
   "cell_type": "code",
   "execution_count": null,
   "metadata": {
    "collapsed": true
   },
   "outputs": [],
   "source": [
    "def k_nearest_neighbor_regression(inp_n, inp_n_t_i, k):\n",
    "    assert(k > 0)\n",
    "    diff = inp_n - inp_n_t_i\n",
    "    distances = np.sqrt(np.sum(diff**2, axis=1))\n",
    "    k_closest_idx = np.argsort(distances)[0 : k]\n",
    "    return k_closest_idx, distances"
   ]
  },
  {
   "cell_type": "code",
   "execution_count": null,
   "metadata": {
    "collapsed": true
   },
   "outputs": [],
   "source": [
    "def predict_with_k_nn_regresion(inp_n, inp_n_t_i, output, k, verbose=False):\n",
    "    k_closest_idx, cc2 = k_nearest_neighbor_regression(inp_n, inp_n_t_i, k)\n",
    "    if verbose:\n",
    "        print(k_closest_idx)\n",
    "    \n",
    "    avg = 0\n",
    "    for i in range(k):\n",
    "        avg += output[k_closest_idx[i]]\n",
    "    avg /= k\n",
    "    return avg"
   ]
  },
  {
   "cell_type": "code",
   "execution_count": null,
   "metadata": {
    "collapsed": false
   },
   "outputs": [],
   "source": [
    "pred_val_4 = predict_with_k_nn_regresion(inp_n, inp_n_t[2], output, 4, True)\n",
    "print('predicted value for 4-knn: {}'.format(pred_val_4))"
   ]
  },
  {
   "cell_type": "code",
   "execution_count": null,
   "metadata": {
    "collapsed": false
   },
   "outputs": [],
   "source": [
    "# predict the values of the first ten houses with k = 10\n",
    "min_pred_value = 10e12  \n",
    "idx = -1\n",
    "for i in range(10):\n",
    "    pred_val_10 = predict_with_k_nn_regresion(inp_n, inp_n_t[i], output, 10)\n",
    "    if pred_val_10 < min_pred_value:\n",
    "        idx = i\n",
    "        min_pred_value = pred_val_10\n",
    "assert(idx > 0)\n",
    "print('idx = {}, min_pred_value: {}'.format(idx, min_pred_value))"
   ]
  },
  {
   "cell_type": "markdown",
   "metadata": {},
   "source": [
    "# Choose k (validation)"
   ]
  },
  {
   "cell_type": "code",
   "execution_count": null,
   "metadata": {
    "collapsed": true
   },
   "outputs": [],
   "source": [
    "def compute_rss(y_pred, y_true):\n",
    "    erri = y_pred - y_true\n",
    "    return np.sum(np.multiply(erri, erri))"
   ]
  },
  {
   "cell_type": "code",
   "execution_count": null,
   "metadata": {
    "collapsed": false
   },
   "outputs": [],
   "source": [
    "rss_total = []\n",
    "pool_k = range(1, 16)\n",
    "for k in pool_k:\n",
    "    print('K-NN regression with k={}'.format(k))\n",
    "    pred_k_nn = np.empty((inp_n_v.shape[0]))\n",
    "    for i in range(inp_n_v.shape[0]):\n",
    "        pred_k_nn[i] = predict_with_k_nn_regresion(inp_n, inp_n_v[i], output, k)\n",
    "    rss = compute_rss(pred_k_nn, output_v)\n",
    "    rss_total.append(rss)\n",
    "assert(len(rss_total) == len(pool_k))\n",
    "idx = np.argsort(np.array(rss_total))\n",
    "print('Min rss wth k={}'.format(pool_k[idx[0]]))"
   ]
  },
  {
   "cell_type": "code",
   "execution_count": null,
   "metadata": {
    "collapsed": false
   },
   "outputs": [],
   "source": [
    "# test the model with min rss as found from the previous validation\n",
    "k = pool_k[idx[0]]\n",
    "pred_k_nn = np.empty((inp_n_t.shape[0]))\n",
    "for i in range(inp_n_t.shape[0]):\n",
    "    pred_k_nn[i] = predict_with_k_nn_regresion(inp_n, inp_n_t[i], output, k)\n",
    "rss = compute_rss(pred_k_nn, output_t)\n",
    "print('RSS on test data: {}'.format(rss))"
   ]
  },
  {
   "cell_type": "code",
   "execution_count": null,
   "metadata": {
    "collapsed": true
   },
   "outputs": [],
   "source": []
  }
 ],
 "metadata": {
  "kernelspec": {
   "display_name": "Python 2",
   "language": "python",
   "name": "python2"
  },
  "language_info": {
   "codemirror_mode": {
    "name": "ipython",
    "version": 2
   },
   "file_extension": ".py",
   "mimetype": "text/x-python",
   "name": "python",
   "nbconvert_exporter": "python",
   "pygments_lexer": "ipython2",
   "version": "2.7.11"
  }
 },
 "nbformat": 4,
 "nbformat_minor": 0
}
