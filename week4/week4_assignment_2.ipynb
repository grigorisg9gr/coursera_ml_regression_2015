{
 "cells": [
  {
   "cell_type": "code",
   "execution_count": null,
   "metadata": {
    "collapsed": true
   },
   "outputs": [],
   "source": [
    "# Implentation of ridge regression via gradient descent"
   ]
  },
  {
   "cell_type": "code",
   "execution_count": null,
   "metadata": {
    "collapsed": true
   },
   "outputs": [],
   "source": [
    "import numpy as np"
   ]
  },
  {
   "cell_type": "code",
   "execution_count": null,
   "metadata": {
    "collapsed": true
   },
   "outputs": [],
   "source": [
    "data = np.genfromtxt('../data/kc_house_train_data.csv', delimiter=',', skip_header=1)\n",
    "d_test = np.genfromtxt('../data/kc_house_test_data.csv', delimiter=',', skip_header=1)"
   ]
  },
  {
   "cell_type": "code",
   "execution_count": null,
   "metadata": {
    "collapsed": true
   },
   "outputs": [],
   "source": [
    "def predict_outcome(feature_matrix, weights):\n",
    "    return np.dot(feature_matrix, weights)\n",
    "\n",
    "def feature_derivative_ridge(errors, feature, w, l2_penalty, is_constant):\n",
    "    c = 2 * np.sum(np.multiply(feature, errors))\n",
    "    if not is_constant:\n",
    "        c +=  2 * w * l2_penalty\n",
    "    return c"
   ]
  },
  {
   "cell_type": "code",
   "execution_count": null,
   "metadata": {
    "collapsed": true
   },
   "outputs": [],
   "source": [
    "def ridge_regression_gradient_descent(feature_matrix, output, initial_weights, step_size, \n",
    "                                      l2_penalty, max_iterations=100):\n",
    "    weights = np.array(initial_weights, dtype=np.float)\n",
    "    iter1 = 0 \n",
    "    while iter1 < max_iterations:\n",
    "        #while not reached maximum number of iterations:\n",
    "        predictions = predict_outcome(feature_matrix, weights)\n",
    "        # compute the errors as predictions - output:\n",
    "        err = predictions - output\n",
    "        \n",
    "        for i in xrange(len(weights)): # loop over each weight\n",
    "            # Recall that feature_matrix[:,i] is the feature column associated with weights[i]\n",
    "            # compute the derivative for weight[i].\n",
    "            #(Remember: when i=0, you are computing the derivative of the constant!)\n",
    "            gri = feature_derivative_ridge(err, feature_matrix[:, i], weights[i], l2_penalty, i==0)\n",
    "            \n",
    "            # subtract the step size times the derivative from the current weight\n",
    "            weights[i] = weights[i] - gri * step_size\n",
    "\n",
    "        iter1 += 1\n",
    "    return weights"
   ]
  },
  {
   "cell_type": "markdown",
   "metadata": {},
   "source": [
    "# Model 1 (1 feat)"
   ]
  },
  {
   "cell_type": "code",
   "execution_count": null,
   "metadata": {
    "collapsed": true
   },
   "outputs": [],
   "source": [
    "inp = data[:, 5]\n",
    "output = data[:, 2]\n",
    "# format the input feature matrix as instructed with adding the ones column.\n",
    "ft_m = np.array([np.ones_like(inp), inp]).T\n",
    "\n",
    "initial_weights = [0., 0.]\n",
    "step_size = 1e-12\n",
    "max_iterations = 1000"
   ]
  },
  {
   "cell_type": "code",
   "execution_count": null,
   "metadata": {
    "collapsed": false
   },
   "outputs": [],
   "source": [
    "# model with zero penalty \n",
    "simple_weights_0_penalty = ridge_regression_gradient_descent(ft_m, output, initial_weights, \n",
    "                                                             step_size, 0., max_iterations)\n",
    "s1 = simple_weights_0_penalty\n",
    "print('Coeficients: intercept: {}, slope: {}'.format(s1[0], s1[1]))"
   ]
  },
  {
   "cell_type": "code",
   "execution_count": null,
   "metadata": {
    "collapsed": false
   },
   "outputs": [],
   "source": [
    "# model with high penalty\n",
    "simple_weights_high_penalty = ridge_regression_gradient_descent(ft_m, output, initial_weights, \n",
    "                                                                step_size, 1e11, max_iterations)\n",
    "s1 = simple_weights_high_penalty\n",
    "print('Coeficients: intercept: {}, slope: {}'.format(s1[0], s1[1]))"
   ]
  },
  {
   "cell_type": "code",
   "execution_count": null,
   "metadata": {
    "collapsed": false
   },
   "outputs": [],
   "source": [
    "import matplotlib.pyplot as plt\n",
    "%matplotlib inline\n",
    "plt.plot(ft_m, output,'k.',\n",
    "        ft_m, predict_outcome(ft_m, simple_weights_0_penalty),'b-',\n",
    "        ft_m, predict_outcome(ft_m, simple_weights_high_penalty),'r-')"
   ]
  },
  {
   "cell_type": "code",
   "execution_count": null,
   "metadata": {
    "collapsed": true
   },
   "outputs": [],
   "source": [
    "def compute_rss_ridge(y_pred, y_true, w):\n",
    "    erri = y_pred - y_true\n",
    "    return np.sum(np.multiply(erri, erri)) + np.linalg.norm(w, 2)"
   ]
  },
  {
   "cell_type": "code",
   "execution_count": null,
   "metadata": {
    "collapsed": true
   },
   "outputs": [],
   "source": [
    "# format test data\n",
    "inp = d_test[:, 5]\n",
    "output = d_test[:, 2]\n",
    "# format the input feature matrix as instructed with adding the ones column.\n",
    "ft_m = np.array([np.ones_like(inp), inp]).T"
   ]
  },
  {
   "cell_type": "code",
   "execution_count": null,
   "metadata": {
    "collapsed": false
   },
   "outputs": [],
   "source": [
    "rss0 = compute_rss_ridge(predict_outcome(ft_m, initial_weights), output, initial_weights)\n",
    "rss1 = compute_rss_ridge(predict_outcome(ft_m, simple_weights_0_penalty), \n",
    "                         output, simple_weights_0_penalty)\n",
    "rss2 = compute_rss_ridge(predict_outcome(ft_m, simple_weights_high_penalty), \n",
    "                         output, simple_weights_high_penalty)\n",
    "print('initial: {}, low regularisation: {}, high regularisation: {}'.format(rss0, rss1, rss2))"
   ]
  },
  {
   "cell_type": "markdown",
   "metadata": {},
   "source": [
    "# Model 2 (2 feats)"
   ]
  },
  {
   "cell_type": "code",
   "execution_count": null,
   "metadata": {
    "collapsed": true
   },
   "outputs": [],
   "source": [
    "inp = np.array([data[:, 5], data[:, 19]]).T\n",
    "# format the input feature matrix as instructed with adding the ones column.\n",
    "ft_m = np.array([np.ones_like(inp[:, 0]), inp[:, 0], inp[:, 1]]).T\n",
    "\n",
    "output = data[:, 2]\n",
    "\n",
    "initial_weights = [0., 0., 0.]\n",
    "step_size = 1e-12\n",
    "max_iterations = 1000"
   ]
  },
  {
   "cell_type": "code",
   "execution_count": null,
   "metadata": {
    "collapsed": false
   },
   "outputs": [],
   "source": [
    "multiple_weights_0_penalty = ridge_regression_gradient_descent(ft_m, output, initial_weights, \n",
    "                                                             step_size, 0., max_iterations)\n",
    "s1 = multiple_weights_0_penalty\n",
    "print('Coeficients: {}'.format(s1))"
   ]
  },
  {
   "cell_type": "code",
   "execution_count": null,
   "metadata": {
    "collapsed": false
   },
   "outputs": [],
   "source": [
    "multiple_weights_high_penalty = ridge_regression_gradient_descent(ft_m, output, initial_weights, \n",
    "                                                             step_size, 1e11, max_iterations)\n",
    "s1 = multiple_weights_high_penalty\n",
    "print('Coeficients: {}'.format(s1))"
   ]
  },
  {
   "cell_type": "code",
   "execution_count": null,
   "metadata": {
    "collapsed": false
   },
   "outputs": [],
   "source": [
    "# format test data\n",
    "inp_t = np.array([d_test[:, 5], d_test[:, 19]]).T\n",
    "ft_m = np.array([np.ones_like(inp_t[:, 0]), inp_t[:, 0], inp_t[:, 1]]).T\n",
    "output = d_test[:, 2]"
   ]
  },
  {
   "cell_type": "code",
   "execution_count": null,
   "metadata": {
    "collapsed": false
   },
   "outputs": [],
   "source": [
    "rss0 = compute_rss_ridge(predict_outcome(ft_m, initial_weights), output, initial_weights)\n",
    "rss1 = compute_rss_ridge(predict_outcome(ft_m, multiple_weights_0_penalty), \n",
    "                         output, multiple_weights_0_penalty)\n",
    "rss2 = compute_rss_ridge(predict_outcome(ft_m, multiple_weights_high_penalty), \n",
    "                         output, multiple_weights_high_penalty)\n",
    "print('initial: {}, low regularisation: {}, high regularisation: {}'.format(rss0, rss1, rss2))"
   ]
  },
  {
   "cell_type": "code",
   "execution_count": null,
   "metadata": {
    "collapsed": false
   },
   "outputs": [],
   "source": [
    "p1 = predict_outcome(ft_m, multiple_weights_0_penalty)[0]\n",
    "p2 = predict_outcome(ft_m, multiple_weights_high_penalty)[0]\n",
    "print('errors: 1: {}, 2: {}'.format(p1 - output[0], p2 - output[0]))"
   ]
  },
  {
   "cell_type": "code",
   "execution_count": null,
   "metadata": {
    "collapsed": true
   },
   "outputs": [],
   "source": []
  }
 ],
 "metadata": {
  "kernelspec": {
   "display_name": "Python 2",
   "language": "python",
   "name": "python2"
  },
  "language_info": {
   "codemirror_mode": {
    "name": "ipython",
    "version": 2
   },
   "file_extension": ".py",
   "mimetype": "text/x-python",
   "name": "python",
   "nbconvert_exporter": "python",
   "pygments_lexer": "ipython2",
   "version": "2.7.11"
  }
 },
 "nbformat": 4,
 "nbformat_minor": 0
}
